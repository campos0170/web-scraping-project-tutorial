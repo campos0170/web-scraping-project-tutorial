{
    "cells": [
        {
            "cell_type": "markdown",
            "metadata": {},
            "source": [
                "# Explore here\n",
                "\n",
                "It's recommended to use this notebook for exploration purposes."
            ]
        },
        {
            "cell_type": "code",
            "execution_count": 28,
            "metadata": {},
            "outputs": [],
            "source": [
                "import os\n",
                "from bs4 import BeautifulSoup\n",
                "import requests\n",
                "import time\n",
                "import sqlite3\n",
                "import matplotlib.pyplot as plt\n",
                "import seaborn as sns\n",
                "import numpy as np\n",
                "import matplotlib.pyplot as plt\n",
                "import requests\n",
                "import pandas as pd\n",
                "import time\n",
                "from bs4 import BeautifulSoup\n",
                "import seaborn as sns"
            ]
        },
        {
            "cell_type": "code",
            "execution_count": 2,
            "metadata": {},
            "outputs": [
                {
                    "data": {
                        "text/plain": [
                            "200"
                        ]
                    },
                    "execution_count": 2,
                    "metadata": {},
                    "output_type": "execute_result"
                }
            ],
            "source": [
                "url = \"https://companies-market-cap-copy.vercel.app/index.html\"\n",
                "\n",
                "# Request download from the internet\n",
                "\n",
                "response = requests.get(url)\n",
                "\n",
                "if response.status_code != 200:\n",
                "    print(f\"Download Error\")\n",
                "text = response.text\n",
                "response.status_code\n",
                "\n"
            ]
        },
        {
            "cell_type": "markdown",
            "metadata": {},
            "source": []
        },
        {
            "cell_type": "code",
            "execution_count": 3,
            "metadata": {},
            "outputs": [],
            "source": [
                "\n",
                "soup = BeautifulSoup(text,\"html.parser\") \n",
                "\n"
            ]
        },
        {
            "cell_type": "code",
            "execution_count": 4,
            "metadata": {},
            "outputs": [
                {
                    "name": "stdout",
                    "output_type": "stream",
                    "text": [
                        "<tbody>\n",
                        "<tr><td><span class=\"year\">2024</span></td><td>$97.15 B</td><td class=\"percentage-green\">0.39%</td></tr><tr><td><span class=\"year\">2023</span> </td><td>$96.77 B</td><td class=\"percentage-green\">18.8%</td></tr><tr><td><span class=\"year\">2022</span></td><td>$81.46 B</td><td class=\"percentage-green\">51.35%</td></tr><tr><td><span class=\"year\">2021</span></td><td>$53.82 B</td><td class=\"percentage-green\">70.67%</td></tr><tr><td><span class=\"year\">2020</span></td><td>$31.53 B</td><td class=\"percentage-green\">28.31%</td></tr><tr><td><span class=\"year\">2019</span></td><td>$24.57 B</td><td class=\"percentage-green\">14.52%</td></tr><tr><td><span class=\"year\">2018</span></td><td>$21.46 B</td><td class=\"percentage-green\">82.51%</td></tr><tr><td><span class=\"year\">2017</span></td><td>$11.75 B</td><td class=\"percentage-green\">67.98%</td></tr><tr><td><span class=\"year\">2016</span></td><td>$7.00 B</td><td class=\"percentage-green\">73.01%</td></tr><tr><td><span class=\"year\">2015</span></td><td>$4.04 B</td><td class=\"percentage-green\">26.5%</td></tr><tr><td><span class=\"year\">2014</span></td><td>$3.19 B</td><td class=\"percentage-green\">58.85%</td></tr><tr><td><span class=\"year\">2013</span></td><td>$2.01 B</td><td class=\"percentage-green\">387.23%</td></tr><tr><td><span class=\"year\">2012</span></td><td>$0.41 B</td><td class=\"percentage-green\">102.34%</td></tr><tr><td><span class=\"year\">2011</span></td><td>$0.20 B</td><td class=\"percentage-green\">74.95%</td></tr><tr><td><span class=\"year\">2010</span></td><td>$0.11 B</td><td class=\"percentage-green\">4.29%</td></tr><tr><td><span class=\"year\">2009</span> </td><td>$0.11 B</td><td></td></tr> </tbody>\n"
                    ]
                }
            ],
            "source": [
                "# Find the tables\n",
                "# Find table bodies\n",
                "table_body = soup.find('tbody') \n",
                "\n",
                "print(table_body)"
            ]
        },
        {
            "cell_type": "code",
            "execution_count": 5,
            "metadata": {},
            "outputs": [
                {
                    "data": {
                        "text/plain": [
                            "[<tr>\n",
                            " <th>Year</th>\n",
                            " <th>Revenue</th>\n",
                            " <th>Change</th>\n",
                            " </tr>,\n",
                            " <tr><td><span class=\"year\">2024</span></td><td>$97.15 B</td><td class=\"percentage-green\">0.39%</td></tr>,\n",
                            " <tr><td><span class=\"year\">2023</span> </td><td>$96.77 B</td><td class=\"percentage-green\">18.8%</td></tr>,\n",
                            " <tr><td><span class=\"year\">2022</span></td><td>$81.46 B</td><td class=\"percentage-green\">51.35%</td></tr>,\n",
                            " <tr><td><span class=\"year\">2021</span></td><td>$53.82 B</td><td class=\"percentage-green\">70.67%</td></tr>,\n",
                            " <tr><td><span class=\"year\">2020</span></td><td>$31.53 B</td><td class=\"percentage-green\">28.31%</td></tr>,\n",
                            " <tr><td><span class=\"year\">2019</span></td><td>$24.57 B</td><td class=\"percentage-green\">14.52%</td></tr>,\n",
                            " <tr><td><span class=\"year\">2018</span></td><td>$21.46 B</td><td class=\"percentage-green\">82.51%</td></tr>,\n",
                            " <tr><td><span class=\"year\">2017</span></td><td>$11.75 B</td><td class=\"percentage-green\">67.98%</td></tr>,\n",
                            " <tr><td><span class=\"year\">2016</span></td><td>$7.00 B</td><td class=\"percentage-green\">73.01%</td></tr>,\n",
                            " <tr><td><span class=\"year\">2015</span></td><td>$4.04 B</td><td class=\"percentage-green\">26.5%</td></tr>,\n",
                            " <tr><td><span class=\"year\">2014</span></td><td>$3.19 B</td><td class=\"percentage-green\">58.85%</td></tr>,\n",
                            " <tr><td><span class=\"year\">2013</span></td><td>$2.01 B</td><td class=\"percentage-green\">387.23%</td></tr>,\n",
                            " <tr><td><span class=\"year\">2012</span></td><td>$0.41 B</td><td class=\"percentage-green\">102.34%</td></tr>,\n",
                            " <tr><td><span class=\"year\">2011</span></td><td>$0.20 B</td><td class=\"percentage-green\">74.95%</td></tr>,\n",
                            " <tr><td><span class=\"year\">2010</span></td><td>$0.11 B</td><td class=\"percentage-green\">4.29%</td></tr>,\n",
                            " <tr><td><span class=\"year\">2009</span> </td><td>$0.11 B</td><td></td></tr>,\n",
                            " <tr> <th>Company</th> <th>Revenue</th> <th>Revenue <span class=\"responsive-hidden\">difference</span><span class=\"responsive-shown\">diff.</span></th> <th>Country</th> </tr>,\n",
                            " <tr><td class=\"name-td\"><a href=\"/apple/revenue/\" style=\"pointer-events: none;\"><div class=\"float-left pt-1\"></div><div class=\"name-div\"><div class=\"company-name\">Apple</div><div class=\"company-code\"><span class=\"rank d-none\"></span>AAPL</div></div></a></td></tr>,\n",
                            " <tr><td class=\"name-td\"><a href=\"/rivian/revenue/\"><div class=\"float-left pt-1\"> </div><div class=\"name-div\"><div class=\"company-name\">Rivian</div><div class=\"company-code\"><span class=\"rank d-none\"></span>RIVN</div></div></a></td></tr>,\n",
                            " <tr><td class=\"name-td\"><a href=\"/lucid-motors/revenue/\"><div class=\"float-left pt-1\"></div><div class=\"name-div\"><div class=\"company-name\">Lucid Motors</div><div class=\"company-code\"><span class=\"rank d-none\"></span>LCID</div></div></a></td></tr>,\n",
                            " <tr><td class=\"name-td\"><a href=\"/nio/revenue/\"><div class=\"float-left pt-1\"></div><div class=\"name-div\"><div class=\"company-name\">NIO</div><div class=\"company-code\"><span class=\"rank d-none\"></span>NIO</div></div></a></td><td>$8.85 B</td><td><span class=\"percentage-red\">-90.88%</span></td><td> <span class=\"responsive-hidden\">China</span></td></tr>]"
                        ]
                    },
                    "execution_count": 5,
                    "metadata": {},
                    "output_type": "execute_result"
                }
            ],
            "source": [
                "# Find table entries\n",
                "\n",
                "table_entries = soup.find_all(\"tr\")\n",
                "table_entries"
            ]
        },
        {
            "cell_type": "markdown",
            "metadata": {},
            "source": [
                "## Value Scraping ##\n",
                "Now that we have successfully acquired the data in text format, is time to extract the relevant values and put them in a Dataframe for easy manipulation and visualization. When it comes to how html is structured recall the following:\n",
                "1. tr -  table row.\n",
                "2. th - table header.\n",
                "3. td - table data.\n",
                "4. class -unique identifiers.\n",
                "\n",
                "The data is organized in rows, we have to keep that in mind when extracting it from the text. We do this in python with succcessive for loops into the text with the aid of Beautiful soup to parse."
            ]
        },
        {
            "cell_type": "code",
            "execution_count": 6,
            "metadata": {},
            "outputs": [
                {
                    "data": {
                        "text/plain": [
                            "[[],\n",
                            " ['2024', '$97.15 B', '0.39%'],\n",
                            " ['2023', '$96.77 B', '18.8%'],\n",
                            " ['2022', '$81.46 B', '51.35%'],\n",
                            " ['2021', '$53.82 B', '70.67%'],\n",
                            " ['2020', '$31.53 B', '28.31%'],\n",
                            " ['2019', '$24.57 B', '14.52%'],\n",
                            " ['2018', '$21.46 B', '82.51%'],\n",
                            " ['2017', '$11.75 B', '67.98%'],\n",
                            " ['2016', '$7.00 B', '73.01%'],\n",
                            " ['2015', '$4.04 B', '26.5%'],\n",
                            " ['2014', '$3.19 B', '58.85%'],\n",
                            " ['2013', '$2.01 B', '387.23%'],\n",
                            " ['2012', '$0.41 B', '102.34%'],\n",
                            " ['2011', '$0.20 B', '74.95%'],\n",
                            " ['2010', '$0.11 B', '4.29%'],\n",
                            " ['2009', '$0.11 B', ''],\n",
                            " [],\n",
                            " ['AppleAAPL'],\n",
                            " ['RivianRIVN'],\n",
                            " ['Lucid MotorsLCID'],\n",
                            " ['NIONIO', '$8.85 B', '-90.88%', 'China']]"
                        ]
                    },
                    "execution_count": 6,
                    "metadata": {},
                    "output_type": "execute_result"
                }
            ],
            "source": [
                "# First get the headers\n",
                "\n",
                "header = []\n",
                "for h in table_entries[:3]: # I just need the first three elements\n",
                "    for x in h.find_all('th'):\n",
                "        header.append(x.text)\n",
                "header\n",
                "\n",
                "# Next get the values\n",
                "\n",
                "values = []\n",
                "\n",
                "for v in table_entries:\n",
                "\n",
                "    value = [value.text.strip() for value in v.find_all(\"td\")]\n",
                "    values.append(value)\n",
                "\n",
                "values\n"
            ]
        },
        {
            "cell_type": "code",
            "execution_count": 7,
            "metadata": {},
            "outputs": [
                {
                    "data": {
                        "text/plain": [
                            "[['2024', '$97.15 B', '0.39%'],\n",
                            " ['2023', '$96.77 B', '18.8%'],\n",
                            " ['2022', '$81.46 B', '51.35%'],\n",
                            " ['2021', '$53.82 B', '70.67%'],\n",
                            " ['2020', '$31.53 B', '28.31%'],\n",
                            " ['2019', '$24.57 B', '14.52%'],\n",
                            " ['2018', '$21.46 B', '82.51%'],\n",
                            " ['2017', '$11.75 B', '67.98%'],\n",
                            " ['2016', '$7.00 B', '73.01%'],\n",
                            " ['2015', '$4.04 B', '26.5%'],\n",
                            " ['2014', '$3.19 B', '58.85%'],\n",
                            " ['2013', '$2.01 B', '387.23%'],\n",
                            " ['2012', '$0.41 B', '102.34%'],\n",
                            " ['2011', '$0.20 B', '74.95%'],\n",
                            " ['2010', '$0.11 B', '4.29%'],\n",
                            " ['2009', '$0.11 B', '']]"
                        ]
                    },
                    "execution_count": 7,
                    "metadata": {},
                    "output_type": "execute_result"
                }
            ],
            "source": [
                "# List of entries, We only care about the table values in regards to Revue and Change\n",
                "\n",
                "l_entries = [l for l in values if len(l) ==3]\n",
                "l_entries"
            ]
        },
        {
            "cell_type": "code",
            "execution_count": 8,
            "metadata": {},
            "outputs": [
                {
                    "data": {
                        "text/html": [
                            "<div>\n",
                            "<style scoped>\n",
                            "    .dataframe tbody tr th:only-of-type {\n",
                            "        vertical-align: middle;\n",
                            "    }\n",
                            "\n",
                            "    .dataframe tbody tr th {\n",
                            "        vertical-align: top;\n",
                            "    }\n",
                            "\n",
                            "    .dataframe thead th {\n",
                            "        text-align: right;\n",
                            "    }\n",
                            "</style>\n",
                            "<table border=\"1\" class=\"dataframe\">\n",
                            "  <thead>\n",
                            "    <tr style=\"text-align: right;\">\n",
                            "      <th></th>\n",
                            "      <th>Year</th>\n",
                            "      <th>Revenue</th>\n",
                            "      <th>Change</th>\n",
                            "    </tr>\n",
                            "  </thead>\n",
                            "  <tbody>\n",
                            "    <tr>\n",
                            "      <th>0</th>\n",
                            "      <td>2024</td>\n",
                            "      <td>$97.15 B</td>\n",
                            "      <td>0.39%</td>\n",
                            "    </tr>\n",
                            "    <tr>\n",
                            "      <th>1</th>\n",
                            "      <td>2023</td>\n",
                            "      <td>$96.77 B</td>\n",
                            "      <td>18.8%</td>\n",
                            "    </tr>\n",
                            "    <tr>\n",
                            "      <th>2</th>\n",
                            "      <td>2022</td>\n",
                            "      <td>$81.46 B</td>\n",
                            "      <td>51.35%</td>\n",
                            "    </tr>\n",
                            "    <tr>\n",
                            "      <th>3</th>\n",
                            "      <td>2021</td>\n",
                            "      <td>$53.82 B</td>\n",
                            "      <td>70.67%</td>\n",
                            "    </tr>\n",
                            "    <tr>\n",
                            "      <th>4</th>\n",
                            "      <td>2020</td>\n",
                            "      <td>$31.53 B</td>\n",
                            "      <td>28.31%</td>\n",
                            "    </tr>\n",
                            "    <tr>\n",
                            "      <th>5</th>\n",
                            "      <td>2019</td>\n",
                            "      <td>$24.57 B</td>\n",
                            "      <td>14.52%</td>\n",
                            "    </tr>\n",
                            "    <tr>\n",
                            "      <th>6</th>\n",
                            "      <td>2018</td>\n",
                            "      <td>$21.46 B</td>\n",
                            "      <td>82.51%</td>\n",
                            "    </tr>\n",
                            "    <tr>\n",
                            "      <th>7</th>\n",
                            "      <td>2017</td>\n",
                            "      <td>$11.75 B</td>\n",
                            "      <td>67.98%</td>\n",
                            "    </tr>\n",
                            "    <tr>\n",
                            "      <th>8</th>\n",
                            "      <td>2016</td>\n",
                            "      <td>$7.00 B</td>\n",
                            "      <td>73.01%</td>\n",
                            "    </tr>\n",
                            "    <tr>\n",
                            "      <th>9</th>\n",
                            "      <td>2015</td>\n",
                            "      <td>$4.04 B</td>\n",
                            "      <td>26.5%</td>\n",
                            "    </tr>\n",
                            "    <tr>\n",
                            "      <th>10</th>\n",
                            "      <td>2014</td>\n",
                            "      <td>$3.19 B</td>\n",
                            "      <td>58.85%</td>\n",
                            "    </tr>\n",
                            "    <tr>\n",
                            "      <th>11</th>\n",
                            "      <td>2013</td>\n",
                            "      <td>$2.01 B</td>\n",
                            "      <td>387.23%</td>\n",
                            "    </tr>\n",
                            "    <tr>\n",
                            "      <th>12</th>\n",
                            "      <td>2012</td>\n",
                            "      <td>$0.41 B</td>\n",
                            "      <td>102.34%</td>\n",
                            "    </tr>\n",
                            "    <tr>\n",
                            "      <th>13</th>\n",
                            "      <td>2011</td>\n",
                            "      <td>$0.20 B</td>\n",
                            "      <td>74.95%</td>\n",
                            "    </tr>\n",
                            "    <tr>\n",
                            "      <th>14</th>\n",
                            "      <td>2010</td>\n",
                            "      <td>$0.11 B</td>\n",
                            "      <td>4.29%</td>\n",
                            "    </tr>\n",
                            "    <tr>\n",
                            "      <th>15</th>\n",
                            "      <td>2009</td>\n",
                            "      <td>$0.11 B</td>\n",
                            "      <td></td>\n",
                            "    </tr>\n",
                            "  </tbody>\n",
                            "</table>\n",
                            "</div>"
                        ],
                        "text/plain": [
                            "    Year   Revenue   Change\n",
                            "0   2024  $97.15 B    0.39%\n",
                            "1   2023  $96.77 B    18.8%\n",
                            "2   2022  $81.46 B   51.35%\n",
                            "3   2021  $53.82 B   70.67%\n",
                            "4   2020  $31.53 B   28.31%\n",
                            "5   2019  $24.57 B   14.52%\n",
                            "6   2018  $21.46 B   82.51%\n",
                            "7   2017  $11.75 B   67.98%\n",
                            "8   2016   $7.00 B   73.01%\n",
                            "9   2015   $4.04 B    26.5%\n",
                            "10  2014   $3.19 B   58.85%\n",
                            "11  2013   $2.01 B  387.23%\n",
                            "12  2012   $0.41 B  102.34%\n",
                            "13  2011   $0.20 B   74.95%\n",
                            "14  2010   $0.11 B    4.29%\n",
                            "15  2009   $0.11 B         "
                        ]
                    },
                    "execution_count": 8,
                    "metadata": {},
                    "output_type": "execute_result"
                }
            ],
            "source": [
                "# Create the dataframe\n",
                "\n",
                "df_tesla = pd.DataFrame(l_entries,columns=header)\n",
                "df_tesla"
            ]
        },
        {
            "cell_type": "markdown",
            "metadata": {},
            "source": [
                "## Clean DataFrame ##\n",
                "Now that we have everything in a dataframe we have to clean the daframe by removing non-numeric characters as well as drop any enpty entries. In this case we have tho remove the '**$**' and '**B**' from the **Revenue** and **Change** columns and drop the last row."
            ]
        },
        {
            "cell_type": "code",
            "execution_count": 9,
            "metadata": {},
            "outputs": [
                {
                    "data": {
                        "text/html": [
                            "<div>\n",
                            "<style scoped>\n",
                            "    .dataframe tbody tr th:only-of-type {\n",
                            "        vertical-align: middle;\n",
                            "    }\n",
                            "\n",
                            "    .dataframe tbody tr th {\n",
                            "        vertical-align: top;\n",
                            "    }\n",
                            "\n",
                            "    .dataframe thead th {\n",
                            "        text-align: right;\n",
                            "    }\n",
                            "</style>\n",
                            "<table border=\"1\" class=\"dataframe\">\n",
                            "  <thead>\n",
                            "    <tr style=\"text-align: right;\">\n",
                            "      <th></th>\n",
                            "      <th>Year</th>\n",
                            "      <th>Revenue (Billions)</th>\n",
                            "      <th>Change</th>\n",
                            "    </tr>\n",
                            "  </thead>\n",
                            "  <tbody>\n",
                            "    <tr>\n",
                            "      <th>1</th>\n",
                            "      <td>2024</td>\n",
                            "      <td>97.15</td>\n",
                            "      <td>0.39%</td>\n",
                            "    </tr>\n",
                            "    <tr>\n",
                            "      <th>2</th>\n",
                            "      <td>2023</td>\n",
                            "      <td>96.77</td>\n",
                            "      <td>18.8%</td>\n",
                            "    </tr>\n",
                            "    <tr>\n",
                            "      <th>3</th>\n",
                            "      <td>2022</td>\n",
                            "      <td>81.46</td>\n",
                            "      <td>51.35%</td>\n",
                            "    </tr>\n",
                            "    <tr>\n",
                            "      <th>4</th>\n",
                            "      <td>2021</td>\n",
                            "      <td>53.82</td>\n",
                            "      <td>70.67%</td>\n",
                            "    </tr>\n",
                            "    <tr>\n",
                            "      <th>5</th>\n",
                            "      <td>2020</td>\n",
                            "      <td>31.53</td>\n",
                            "      <td>28.31%</td>\n",
                            "    </tr>\n",
                            "    <tr>\n",
                            "      <th>6</th>\n",
                            "      <td>2019</td>\n",
                            "      <td>24.57</td>\n",
                            "      <td>14.52%</td>\n",
                            "    </tr>\n",
                            "    <tr>\n",
                            "      <th>7</th>\n",
                            "      <td>2018</td>\n",
                            "      <td>21.46</td>\n",
                            "      <td>82.51%</td>\n",
                            "    </tr>\n",
                            "    <tr>\n",
                            "      <th>8</th>\n",
                            "      <td>2017</td>\n",
                            "      <td>11.75</td>\n",
                            "      <td>67.98%</td>\n",
                            "    </tr>\n",
                            "    <tr>\n",
                            "      <th>9</th>\n",
                            "      <td>2016</td>\n",
                            "      <td>7.00</td>\n",
                            "      <td>73.01%</td>\n",
                            "    </tr>\n",
                            "    <tr>\n",
                            "      <th>10</th>\n",
                            "      <td>2015</td>\n",
                            "      <td>4.04</td>\n",
                            "      <td>26.5%</td>\n",
                            "    </tr>\n",
                            "    <tr>\n",
                            "      <th>11</th>\n",
                            "      <td>2014</td>\n",
                            "      <td>3.19</td>\n",
                            "      <td>58.85%</td>\n",
                            "    </tr>\n",
                            "    <tr>\n",
                            "      <th>12</th>\n",
                            "      <td>2013</td>\n",
                            "      <td>2.01</td>\n",
                            "      <td>387.23%</td>\n",
                            "    </tr>\n",
                            "    <tr>\n",
                            "      <th>13</th>\n",
                            "      <td>2012</td>\n",
                            "      <td>0.41</td>\n",
                            "      <td>102.34%</td>\n",
                            "    </tr>\n",
                            "    <tr>\n",
                            "      <th>14</th>\n",
                            "      <td>2011</td>\n",
                            "      <td>0.20</td>\n",
                            "      <td>74.95%</td>\n",
                            "    </tr>\n",
                            "    <tr>\n",
                            "      <th>15</th>\n",
                            "      <td>2010</td>\n",
                            "      <td>0.11</td>\n",
                            "      <td>4.29%</td>\n",
                            "    </tr>\n",
                            "    <tr>\n",
                            "      <th>16</th>\n",
                            "      <td>2009</td>\n",
                            "      <td>0.11</td>\n",
                            "      <td></td>\n",
                            "    </tr>\n",
                            "  </tbody>\n",
                            "</table>\n",
                            "</div>"
                        ],
                        "text/plain": [
                            "    Year Revenue (Billions)   Change\n",
                            "1   2024              97.15    0.39%\n",
                            "2   2023              96.77    18.8%\n",
                            "3   2022              81.46   51.35%\n",
                            "4   2021              53.82   70.67%\n",
                            "5   2020              31.53   28.31%\n",
                            "6   2019              24.57   14.52%\n",
                            "7   2018              21.46   82.51%\n",
                            "8   2017              11.75   67.98%\n",
                            "9   2016               7.00   73.01%\n",
                            "10  2015               4.04    26.5%\n",
                            "11  2014               3.19   58.85%\n",
                            "12  2013               2.01  387.23%\n",
                            "13  2012               0.41  102.34%\n",
                            "14  2011               0.20   74.95%\n",
                            "15  2010               0.11    4.29%\n",
                            "16  2009               0.11         "
                        ]
                    },
                    "execution_count": 9,
                    "metadata": {},
                    "output_type": "execute_result"
                }
            ],
            "source": [
                "import regex as re\n",
                "\n",
                "pattern = r\"[^a-zA-Z0-9\\.]|b|B\"\n",
                "\n",
                "df_tesla['Revenue'] = df_tesla['Revenue'].str.replace(pattern,'',regex=True)\n",
                "df_tesla.set_index(pd.Index(range(1,17)),inplace=True)\n",
                "\n",
                "df_tesla = df_tesla.rename(columns={\"Revenue\":\"Revenue (Billions)\"})\n",
                "df_tesla\n"
            ]
        },
        {
            "cell_type": "code",
            "execution_count": 10,
            "metadata": {},
            "outputs": [
                {
                    "data": {
                        "text/html": [
                            "<div>\n",
                            "<style scoped>\n",
                            "    .dataframe tbody tr th:only-of-type {\n",
                            "        vertical-align: middle;\n",
                            "    }\n",
                            "\n",
                            "    .dataframe tbody tr th {\n",
                            "        vertical-align: top;\n",
                            "    }\n",
                            "\n",
                            "    .dataframe thead th {\n",
                            "        text-align: right;\n",
                            "    }\n",
                            "</style>\n",
                            "<table border=\"1\" class=\"dataframe\">\n",
                            "  <thead>\n",
                            "    <tr style=\"text-align: right;\">\n",
                            "      <th></th>\n",
                            "      <th>Year</th>\n",
                            "      <th>Revenue (Billions)</th>\n",
                            "      <th>Change</th>\n",
                            "    </tr>\n",
                            "  </thead>\n",
                            "  <tbody>\n",
                            "    <tr>\n",
                            "      <th>1</th>\n",
                            "      <td>2024</td>\n",
                            "      <td>97.15</td>\n",
                            "      <td>0.39%</td>\n",
                            "    </tr>\n",
                            "    <tr>\n",
                            "      <th>2</th>\n",
                            "      <td>2023</td>\n",
                            "      <td>96.77</td>\n",
                            "      <td>18.8%</td>\n",
                            "    </tr>\n",
                            "    <tr>\n",
                            "      <th>3</th>\n",
                            "      <td>2022</td>\n",
                            "      <td>81.46</td>\n",
                            "      <td>51.35%</td>\n",
                            "    </tr>\n",
                            "    <tr>\n",
                            "      <th>4</th>\n",
                            "      <td>2021</td>\n",
                            "      <td>53.82</td>\n",
                            "      <td>70.67%</td>\n",
                            "    </tr>\n",
                            "    <tr>\n",
                            "      <th>5</th>\n",
                            "      <td>2020</td>\n",
                            "      <td>31.53</td>\n",
                            "      <td>28.31%</td>\n",
                            "    </tr>\n",
                            "    <tr>\n",
                            "      <th>6</th>\n",
                            "      <td>2019</td>\n",
                            "      <td>24.57</td>\n",
                            "      <td>14.52%</td>\n",
                            "    </tr>\n",
                            "    <tr>\n",
                            "      <th>7</th>\n",
                            "      <td>2018</td>\n",
                            "      <td>21.46</td>\n",
                            "      <td>82.51%</td>\n",
                            "    </tr>\n",
                            "    <tr>\n",
                            "      <th>8</th>\n",
                            "      <td>2017</td>\n",
                            "      <td>11.75</td>\n",
                            "      <td>67.98%</td>\n",
                            "    </tr>\n",
                            "    <tr>\n",
                            "      <th>9</th>\n",
                            "      <td>2016</td>\n",
                            "      <td>7.00</td>\n",
                            "      <td>73.01%</td>\n",
                            "    </tr>\n",
                            "    <tr>\n",
                            "      <th>10</th>\n",
                            "      <td>2015</td>\n",
                            "      <td>4.04</td>\n",
                            "      <td>26.5%</td>\n",
                            "    </tr>\n",
                            "    <tr>\n",
                            "      <th>11</th>\n",
                            "      <td>2014</td>\n",
                            "      <td>3.19</td>\n",
                            "      <td>58.85%</td>\n",
                            "    </tr>\n",
                            "    <tr>\n",
                            "      <th>12</th>\n",
                            "      <td>2013</td>\n",
                            "      <td>2.01</td>\n",
                            "      <td>387.23%</td>\n",
                            "    </tr>\n",
                            "    <tr>\n",
                            "      <th>13</th>\n",
                            "      <td>2012</td>\n",
                            "      <td>0.41</td>\n",
                            "      <td>102.34%</td>\n",
                            "    </tr>\n",
                            "    <tr>\n",
                            "      <th>14</th>\n",
                            "      <td>2011</td>\n",
                            "      <td>0.20</td>\n",
                            "      <td>74.95%</td>\n",
                            "    </tr>\n",
                            "    <tr>\n",
                            "      <th>15</th>\n",
                            "      <td>2010</td>\n",
                            "      <td>0.11</td>\n",
                            "      <td>4.29%</td>\n",
                            "    </tr>\n",
                            "  </tbody>\n",
                            "</table>\n",
                            "</div>"
                        ],
                        "text/plain": [
                            "    Year Revenue (Billions)   Change\n",
                            "1   2024              97.15    0.39%\n",
                            "2   2023              96.77    18.8%\n",
                            "3   2022              81.46   51.35%\n",
                            "4   2021              53.82   70.67%\n",
                            "5   2020              31.53   28.31%\n",
                            "6   2019              24.57   14.52%\n",
                            "7   2018              21.46   82.51%\n",
                            "8   2017              11.75   67.98%\n",
                            "9   2016               7.00   73.01%\n",
                            "10  2015               4.04    26.5%\n",
                            "11  2014               3.19   58.85%\n",
                            "12  2013               2.01  387.23%\n",
                            "13  2012               0.41  102.34%\n",
                            "14  2011               0.20   74.95%\n",
                            "15  2010               0.11    4.29%"
                        ]
                    },
                    "execution_count": 10,
                    "metadata": {},
                    "output_type": "execute_result"
                }
            ],
            "source": [
                "# Drop empty entries\n",
                "df_tesla = df_tesla.drop(16)\n",
                "df_tesla\n"
            ]
        },
        {
            "cell_type": "code",
            "execution_count": null,
            "metadata": {},
            "outputs": [],
            "source": []
        },
        {
            "cell_type": "markdown",
            "metadata": {},
            "source": [
                "## Store the data in Sqlite ## \n",
                "Store the dataframe in a database."
            ]
        },
        {
            "cell_type": "code",
            "execution_count": 13,
            "metadata": {},
            "outputs": [],
            "source": [
                "# Create an instance of the database\n",
                "conn = sqlite3.connect(\"tesla_revenues.db\")\n",
                "cursor = conn.cursor()"
            ]
        },
        {
            "cell_type": "code",
            "execution_count": 14,
            "metadata": {},
            "outputs": [
                {
                    "ename": "OperationalError",
                    "evalue": "table tesla already exists",
                    "output_type": "error",
                    "traceback": [
                        "\u001b[0;31m---------------------------------------------------------------------------\u001b[0m",
                        "\u001b[0;31mOperationalError\u001b[0m                          Traceback (most recent call last)",
                        "Cell \u001b[0;32mIn[14], line 3\u001b[0m\n\u001b[1;32m      1\u001b[0m \u001b[38;5;66;03m# Create the table in Sqlite\u001b[39;00m\n\u001b[0;32m----> 3\u001b[0m \u001b[43mcursor\u001b[49m\u001b[38;5;241;43m.\u001b[39;49m\u001b[43mexecute\u001b[49m\u001b[43m(\u001b[49m\u001b[38;5;124;43m'''\u001b[39;49m\n\u001b[1;32m      4\u001b[0m \u001b[38;5;124;43m               CREATE TABLE tesla (\u001b[39;49m\n\u001b[1;32m      5\u001b[0m \u001b[38;5;124;43m               id INTEGER PRIMARY KEY,\u001b[39;49m\n\u001b[1;32m      6\u001b[0m \u001b[38;5;124;43m               year INTEGER,\u001b[39;49m\n\u001b[1;32m      7\u001b[0m \u001b[38;5;124;43m               revenue VARCHAR(10),\u001b[39;49m\n\u001b[1;32m      8\u001b[0m \u001b[38;5;124;43m               change VARCHAR(10)\u001b[39;49m\n\u001b[1;32m      9\u001b[0m \u001b[38;5;124;43m               );\u001b[39;49m\u001b[38;5;124;43m'''\u001b[39;49m\n\u001b[1;32m     10\u001b[0m \u001b[43m               \u001b[49m\u001b[43m)\u001b[49m\n",
                        "\u001b[0;31mOperationalError\u001b[0m: table tesla already exists"
                    ]
                }
            ],
            "source": [
                "# Create the table in Sqlite\n",
                "\n",
                "cursor.execute('''\n",
                "               CREATE TABLE tesla (\n",
                "               id INTEGER PRIMARY KEY,\n",
                "               year INTEGER,\n",
                "               revenue VARCHAR(10),\n",
                "               change VARCHAR(10)\n",
                "               );'''\n",
                "               )\n",
                "\n"
            ]
        },
        {
            "cell_type": "code",
            "execution_count": 17,
            "metadata": {},
            "outputs": [],
            "source": [
                "for index, row in df_tesla.iterrows():\n",
                "    cursor.execute(\"INSERT INTO tesla (id, year,revenue,change) VALUES (?, ?, ?, ?)\", (index, row[\"Year\"],row[\"Revenue (Billions)\"],row[\"Change\"]))\n",
                "\n",
                "conn.commit()\n",
                "conn.close()"
            ]
        },
        {
            "cell_type": "code",
            "execution_count": null,
            "metadata": {},
            "outputs": [],
            "source": []
        },
        {
            "cell_type": "markdown",
            "metadata": {},
            "source": [
                "## Visualize the Data ##\n",
                "Before We visulize, we need to convert the string entries into numneric entries."
            ]
        },
        {
            "cell_type": "code",
            "execution_count": 24,
            "metadata": {},
            "outputs": [],
            "source": [
                "df_tesla[\"Year\"] = pd.to_numeric(df_tesla[\"Year\"])\n",
                "df_tesla[\"Revenue (Billions)\"] = pd.to_numeric(df_tesla[\"Revenue (Billions)\"])"
            ]
        },
        {
            "cell_type": "code",
            "execution_count": 33,
            "metadata": {},
            "outputs": [
                {
                    "data": {
                        "image/png": "[encoded data removed]",
                        "text/plain": [
                            "<Figure size 640x480 with 1 Axes>"
                        ]
                    },
                    "metadata": {},
                    "output_type": "display_data"
                }
            ],
            "source": [
                "plt.plot(df_tesla[\"Year\"],df_tesla[\"Revenue (Billions)\"],marker='o',label='Revenue (Billions)',color='red')\n",
                "\n",
                "plt.xlabel(\"Year\",fontweight='bold')\n",
                "plt.ylabel(\"Revenue (Billions)\",fontweight='bold')\n",
                "plt.title(\"Tesla Revenue from 2010 to 2024\",fontweight='bold')\n",
                "plt.grid(True)\n",
                "plt.xticks(rotation=45)\n",
                "plt.tight_layout()\n",
                "plt.show()\n"
            ]
        },
        {
            "cell_type": "code",
            "execution_count": 32,
            "metadata": {},
            "outputs": [
                {
                    "data": {
                        "image/png": "[encoded data removed]",
                        "text/plain": [
                            "<Figure size 640x480 with 1 Axes>"
                        ]
                    },
                    "metadata": {},
                    "output_type": "display_data"
                }
            ],
            "source": [
                "sns.barplot(df_tesla,x = \"Year\",y = \"Revenue (Billions)\",color='skyblue')\n",
                "plt.xlabel(\"Year\",fontweight='bold')\n",
                "plt.ylabel(\"Revenue (Billions)\",fontweight='bold')\n",
                "plt.title(\"Tesla Revenue from 2010 to 2024\",fontweight='bold')\n",
                "plt.grid(True)\n",
                "plt.xticks(rotation=45)\n",
                "plt.tight_layout()\n",
                "plt.show()"
            ]
        },
        {
            "cell_type": "code",
            "execution_count": 46,
            "metadata": {},
            "outputs": [
                {
                    "data": {
                        "text/plain": [
                            "<Figure size 1200x600 with 0 Axes>"
                        ]
                    },
                    "metadata": {},
                    "output_type": "display_data"
                },
                {
                    "data": {
                        "image/png": "[encoded data removed]",
                        "text/plain": [
                            "<Figure size 640x480 with 1 Axes>"
                        ]
                    },
                    "metadata": {},
                    "output_type": "display_data"
                }
            ],
            "source": [
                "from statsmodels.graphics.tsaplots import plot_acf\n",
                "plt.figure(figsize=(12, 6))\n",
                "plot_acf(df_tesla['Revenue (Billions)'], lags=10,color = 'green') \n",
                "plt.xlabel('Lag',fontweight='bold',fontsize=12)\n",
                "plt.ylabel('Autocorrelation',fontweight='bold',fontsize = 12)\n",
                "plt.title('Autocorrelation Function (ACF) Plot',fontweight='bold',fontsize=14)\n",
                "plt.tight_layout()\n",
                "plt.show()\n"
            ]
        },
        {
            "cell_type": "code",
            "execution_count": null,
            "metadata": {},
            "outputs": [],
            "source": []
        }
    ],
    "metadata": {
        "kernelspec": {
            "display_name": "Python 3",
            "language": "python",
            "name": "python3"
        },
        "language_info": {
            "codemirror_mode": {
                "name": "ipython",
                "version": 3
            },
            "file_extension": ".py",
            "mimetype": "text/x-python",
            "name": "python",
            "nbconvert_exporter": "python",
            "pygments_lexer": "ipython3",
            "version": "3.11.4"
        },
        "orig_nbformat": 4
    },
    "nbformat": 4,
    "nbformat_minor": 2
}
